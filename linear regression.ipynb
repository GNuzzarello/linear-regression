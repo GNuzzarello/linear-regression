{
 "cells": [
  {
   "cell_type": "code",
   "execution_count": 1,
   "metadata": {},
   "outputs": [],
   "source": [
    "import numpy as np\n",
    "import matplotlib.pyplot as plt\n",
    "import seaborn as sns\n",
    "import pandas as pd"
   ]
  },
  {
   "cell_type": "markdown",
   "metadata": {},
   "source": [
    "## CREAZIONE DATASET"
   ]
  },
  {
   "cell_type": "code",
   "execution_count": 2,
   "metadata": {},
   "outputs": [],
   "source": [
    "x1 = np.random.normal(2,3, size = 10**3) # funzione gaussiana con valori casuali, param:2 = centro, 3 = deviazione standard, 10**3 (1000) = valori prodotti\n",
    "x2 = np.random.normal(100,3, size = 10**3)\n",
    "x3 = np.random.normal(0,10, size = 10**3)\n",
    "x4 = np.random.normal(1,7, size = 10**3)\n",
    "x5 = np.random.normal(15,30, size = 10**3)"
   ]
  },
  {
   "cell_type": "code",
   "execution_count": null,
   "metadata": {},
   "outputs": [],
   "source": [
    "array = np.empty([1000,5]) #1000 dati divisi in 5 colonne\n",
    "\n",
    "array[:,0] = x1\n",
    "array[:,1] = x2\n",
    "array[:,2] = x3\n",
    "array[:,3] = x4\n",
    "array[:,4] = x5\n",
    "\n",
    "\n",
    "df = pd.DataFrame(array)\n",
    "df.columns = ['var 1', 'var 2', 'var 3', 'var 4', 'var 5'] #nomi colonne\n",
    "df\n"
   ]
  },
  {
   "cell_type": "markdown",
   "metadata": {},
   "source": [
    "## CREAZIONE FUNZIONE TARGET"
   ]
  },
  {
   "cell_type": "code",
   "execution_count": 33,
   "metadata": {},
   "outputs": [
    {
     "data": {
      "text/html": [
       "<div>\n",
       "<style scoped>\n",
       "    .dataframe tbody tr th:only-of-type {\n",
       "        vertical-align: middle;\n",
       "    }\n",
       "\n",
       "    .dataframe tbody tr th {\n",
       "        vertical-align: top;\n",
       "    }\n",
       "\n",
       "    .dataframe thead th {\n",
       "        text-align: right;\n",
       "    }\n",
       "</style>\n",
       "<table border=\"1\" class=\"dataframe\">\n",
       "  <thead>\n",
       "    <tr style=\"text-align: right;\">\n",
       "      <th></th>\n",
       "      <th>var 1</th>\n",
       "      <th>var 2</th>\n",
       "      <th>var 3</th>\n",
       "      <th>var 4</th>\n",
       "      <th>var 5</th>\n",
       "      <th>target</th>\n",
       "    </tr>\n",
       "  </thead>\n",
       "  <tbody>\n",
       "    <tr>\n",
       "      <th>0</th>\n",
       "      <td>-0.959086</td>\n",
       "      <td>99.627506</td>\n",
       "      <td>-9.337353</td>\n",
       "      <td>0.521597</td>\n",
       "      <td>-15.837611</td>\n",
       "      <td>296.836531</td>\n",
       "    </tr>\n",
       "    <tr>\n",
       "      <th>1</th>\n",
       "      <td>2.871981</td>\n",
       "      <td>98.281421</td>\n",
       "      <td>5.637886</td>\n",
       "      <td>-6.548560</td>\n",
       "      <td>15.423321</td>\n",
       "      <td>295.249031</td>\n",
       "    </tr>\n",
       "    <tr>\n",
       "      <th>2</th>\n",
       "      <td>2.067573</td>\n",
       "      <td>101.848750</td>\n",
       "      <td>16.520411</td>\n",
       "      <td>2.246008</td>\n",
       "      <td>13.713640</td>\n",
       "      <td>309.365099</td>\n",
       "    </tr>\n",
       "    <tr>\n",
       "      <th>3</th>\n",
       "      <td>4.783331</td>\n",
       "      <td>100.142135</td>\n",
       "      <td>9.536288</td>\n",
       "      <td>-3.583098</td>\n",
       "      <td>39.514092</td>\n",
       "      <td>301.396167</td>\n",
       "    </tr>\n",
       "    <tr>\n",
       "      <th>4</th>\n",
       "      <td>1.294281</td>\n",
       "      <td>98.127306</td>\n",
       "      <td>3.551825</td>\n",
       "      <td>3.145965</td>\n",
       "      <td>50.034456</td>\n",
       "      <td>296.795776</td>\n",
       "    </tr>\n",
       "    <tr>\n",
       "      <th>...</th>\n",
       "      <td>...</td>\n",
       "      <td>...</td>\n",
       "      <td>...</td>\n",
       "      <td>...</td>\n",
       "      <td>...</td>\n",
       "      <td>...</td>\n",
       "    </tr>\n",
       "    <tr>\n",
       "      <th>995</th>\n",
       "      <td>2.770983</td>\n",
       "      <td>101.984475</td>\n",
       "      <td>0.848294</td>\n",
       "      <td>-2.073711</td>\n",
       "      <td>-17.921238</td>\n",
       "      <td>306.771816</td>\n",
       "    </tr>\n",
       "    <tr>\n",
       "      <th>996</th>\n",
       "      <td>3.663386</td>\n",
       "      <td>101.486637</td>\n",
       "      <td>5.913934</td>\n",
       "      <td>-4.556145</td>\n",
       "      <td>9.186634</td>\n",
       "      <td>305.590482</td>\n",
       "    </tr>\n",
       "    <tr>\n",
       "      <th>997</th>\n",
       "      <td>3.039088</td>\n",
       "      <td>101.779954</td>\n",
       "      <td>3.717460</td>\n",
       "      <td>-16.845683</td>\n",
       "      <td>-22.269446</td>\n",
       "      <td>310.138702</td>\n",
       "    </tr>\n",
       "    <tr>\n",
       "      <th>998</th>\n",
       "      <td>-1.920087</td>\n",
       "      <td>98.598273</td>\n",
       "      <td>1.323331</td>\n",
       "      <td>3.297155</td>\n",
       "      <td>1.928961</td>\n",
       "      <td>295.931079</td>\n",
       "    </tr>\n",
       "    <tr>\n",
       "      <th>999</th>\n",
       "      <td>2.749942</td>\n",
       "      <td>101.936527</td>\n",
       "      <td>-1.698824</td>\n",
       "      <td>4.241859</td>\n",
       "      <td>34.975446</td>\n",
       "      <td>307.228420</td>\n",
       "    </tr>\n",
       "  </tbody>\n",
       "</table>\n",
       "<p>1000 rows × 6 columns</p>\n",
       "</div>"
      ],
      "text/plain": [
       "        var 1       var 2      var 3      var 4      var 5      target\n",
       "0   -0.959086   99.627506  -9.337353   0.521597 -15.837611  296.836531\n",
       "1    2.871981   98.281421   5.637886  -6.548560  15.423321  295.249031\n",
       "2    2.067573  101.848750  16.520411   2.246008  13.713640  309.365099\n",
       "3    4.783331  100.142135   9.536288  -3.583098  39.514092  301.396167\n",
       "4    1.294281   98.127306   3.551825   3.145965  50.034456  296.795776\n",
       "..        ...         ...        ...        ...        ...         ...\n",
       "995  2.770983  101.984475   0.848294  -2.073711 -17.921238  306.771816\n",
       "996  3.663386  101.486637   5.913934  -4.556145   9.186634  305.590482\n",
       "997  3.039088  101.779954   3.717460 -16.845683 -22.269446  310.138702\n",
       "998 -1.920087   98.598273   1.323331   3.297155   1.928961  295.931079\n",
       "999  2.749942  101.936527  -1.698824   4.241859  34.975446  307.228420\n",
       "\n",
       "[1000 rows x 6 columns]"
      ]
     },
     "execution_count": 33,
     "metadata": {},
     "output_type": "execute_result"
    }
   ],
   "source": [
    "def funzione(a,b,c,d,e): \n",
    "    return 0.1*x1+3*x2+0.1*x3*2+0.5*x4*x5 #OCCHIO ALL'INTERAZIONE TRA X4 E X5, 0.5 INDICA LA CORRELAZIONE.\n",
    "\n",
    "target=funzione(x1,x2,x3,x4,x5)\n",
    "\n",
    "df['target'] = target #appendiamo colonne target\n",
    "df"
   ]
  },
  {
   "cell_type": "markdown",
   "metadata": {},
   "source": [
    "## REGRESSIONE LINEARE"
   ]
  },
  {
   "cell_type": "code",
   "execution_count": 34,
   "metadata": {},
   "outputs": [
    {
     "name": "stdout",
     "output_type": "stream",
     "text": [
      "Score :0.9462716474528059\n"
     ]
    },
    {
     "data": {
      "text/plain": [
       "<function matplotlib.pyplot.show(close=None, block=None)>"
      ]
     },
     "execution_count": 34,
     "metadata": {},
     "output_type": "execute_result"
    },
    {
     "data": {
      "image/png": "[encoded data removed]",
      "text/plain": [
       "<Figure size 432x288 with 1 Axes>"
      ]
     },
     "metadata": {
      "needs_background": "light"
     },
     "output_type": "display_data"
    }
   ],
   "source": [
    "# target = a*var1 + b*var2 + c*var3 + d*var4 + e*var5  -- trovare i coefficenti (a,b,c,d,e) minimizzando la distanza con target\n",
    "\n",
    "from sklearn.linear_model import LinearRegression\n",
    "from sklearn.model_selection import train_test_split\n",
    "\n",
    "X = df.iloc[:, 0:5] #tutte le righe della colonna 0-5\n",
    "y = df.iloc [:,5] #tutte le righe della colonna 5\n",
    "\n",
    "X_train, X_test, y_train, y_test = train_test_split(X,y,test_size = 0.25) #test = 25%\n",
    "\n",
    "lreg = LinearRegression() #MODEL\n",
    "\n",
    "lreg.fit(X_train, y_train) #TRAINING\n",
    "\n",
    "y_pred = lreg.predict(X_test) #PREDICT\n",
    "\n",
    "\n",
    "\n",
    "score = lreg.score(X_test, y_test) #SCORE\n",
    "print('Score :' + str(score))\n",
    "\n",
    "plt.scatter(y_pred, y_test)\n",
    "plt.plot(y_pred,y_pred, 'r')\n",
    "plt.show\n"
   ]
  },
  {
   "cell_type": "markdown",
   "metadata": {},
   "source": [
    "Commento sui risultati ottenuti: score basso causato dalla funzione target che NON è una funzione lineare (X3 al quadrato e SOPRATTUTTO interazione tra X4 e X5)"
   ]
  },
  {
   "cell_type": "code",
   "execution_count": null,
   "metadata": {},
   "outputs": [],
   "source": []
  }
 ],
 "metadata": {
  "kernelspec": {
   "display_name": "Python 3.8.5 ('base')",
   "language": "python",
   "name": "python3"
  },
  "language_info": {
   "codemirror_mode": {
    "name": "ipython",
    "version": 3
   },
   "file_extension": ".py",
   "mimetype": "text/x-python",
   "name": "python",
   "nbconvert_exporter": "python",
   "pygments_lexer": "ipython3",
   "version": "3.8.5"
  },
  "orig_nbformat": 4,
  "vscode": {
   "interpreter": {
    "hash": "40d3a090f54c6569ab1632332b64b2c03c39dcf918b08424e98f38b5ae0af88f"
   }
  }
 },
 "nbformat": 4,
 "nbformat_minor": 2
}
